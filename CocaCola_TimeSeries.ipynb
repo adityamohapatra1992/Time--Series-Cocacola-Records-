{
 "cells": [
  {
   "cell_type": "code",
   "execution_count": 166,
   "metadata": {},
   "outputs": [],
   "source": [
    "import numpy as np \n",
    "import pandas as pd\n",
    "import matplotlib.pyplot as plt\n",
    "import seaborn as sns\n",
    "%matplotlib inline"
   ]
  },
  {
   "cell_type": "code",
   "execution_count": 167,
   "metadata": {},
   "outputs": [],
   "source": [
    "cola = pd.read_excel(r'C:\\Users\\abhis\\OneDrive\\Desktop\\DATA SCIENCE\\ExcelR\\Assignments\\Problem statements - ExcelR\\Time Series\\CocaCola_Sales_Rawdata.xlsx')"
   ]
  },
  {
   "cell_type": "code",
   "execution_count": 168,
   "metadata": {},
   "outputs": [
    {
     "data": {
      "text/html": [
       "<div>\n",
       "<style scoped>\n",
       "    .dataframe tbody tr th:only-of-type {\n",
       "        vertical-align: middle;\n",
       "    }\n",
       "\n",
       "    .dataframe tbody tr th {\n",
       "        vertical-align: top;\n",
       "    }\n",
       "\n",
       "    .dataframe thead th {\n",
       "        text-align: right;\n",
       "    }\n",
       "</style>\n",
       "<table border=\"1\" class=\"dataframe\">\n",
       "  <thead>\n",
       "    <tr style=\"text-align: right;\">\n",
       "      <th></th>\n",
       "      <th>Quarter</th>\n",
       "      <th>Sales</th>\n",
       "    </tr>\n",
       "  </thead>\n",
       "  <tbody>\n",
       "    <tr>\n",
       "      <th>0</th>\n",
       "      <td>Q1_86</td>\n",
       "      <td>1734.827000</td>\n",
       "    </tr>\n",
       "    <tr>\n",
       "      <th>1</th>\n",
       "      <td>Q2_86</td>\n",
       "      <td>2244.960999</td>\n",
       "    </tr>\n",
       "    <tr>\n",
       "      <th>2</th>\n",
       "      <td>Q3_86</td>\n",
       "      <td>2533.804993</td>\n",
       "    </tr>\n",
       "    <tr>\n",
       "      <th>3</th>\n",
       "      <td>Q4_86</td>\n",
       "      <td>2154.962997</td>\n",
       "    </tr>\n",
       "    <tr>\n",
       "      <th>4</th>\n",
       "      <td>Q1_87</td>\n",
       "      <td>1547.818996</td>\n",
       "    </tr>\n",
       "  </tbody>\n",
       "</table>\n",
       "</div>"
      ],
      "text/plain": [
       "  Quarter        Sales\n",
       "0   Q1_86  1734.827000\n",
       "1   Q2_86  2244.960999\n",
       "2   Q3_86  2533.804993\n",
       "3   Q4_86  2154.962997\n",
       "4   Q1_87  1547.818996"
      ]
     },
     "execution_count": 168,
     "metadata": {},
     "output_type": "execute_result"
    }
   ],
   "source": [
    "cola.head()"
   ]
  },
  {
   "cell_type": "code",
   "execution_count": 169,
   "metadata": {},
   "outputs": [
    {
     "name": "stdout",
     "output_type": "stream",
     "text": [
      "<class 'pandas.core.frame.DataFrame'>\n",
      "RangeIndex: 42 entries, 0 to 41\n",
      "Data columns (total 2 columns):\n",
      " #   Column   Non-Null Count  Dtype  \n",
      "---  ------   --------------  -----  \n",
      " 0   Quarter  42 non-null     object \n",
      " 1   Sales    42 non-null     float64\n",
      "dtypes: float64(1), object(1)\n",
      "memory usage: 800.0+ bytes\n"
     ]
    }
   ],
   "source": [
    "cola.info()"
   ]
  },
  {
   "cell_type": "code",
   "execution_count": 170,
   "metadata": {},
   "outputs": [
    {
     "data": {
      "text/plain": [
       "<matplotlib.axes._subplots.AxesSubplot at 0x2657d91ce08>"
      ]
     },
     "execution_count": 170,
     "metadata": {},
     "output_type": "execute_result"
    },
    {
     "data": {
      "image/png": "[encoded data removed]",
      "text/plain": [
       "<Figure size 432x288 with 1 Axes>"
      ]
     },
     "metadata": {
      "needs_background": "light"
     },
     "output_type": "display_data"
    }
   ],
   "source": [
    "sns.boxplot('Sales',data=cola)"
   ]
  },
  {
   "cell_type": "code",
   "execution_count": 171,
   "metadata": {},
   "outputs": [],
   "source": [
    "quarter = ['Q1','Q2','Q3','Q4']"
   ]
  },
  {
   "cell_type": "code",
   "execution_count": 172,
   "metadata": {},
   "outputs": [
    {
     "data": {
      "text/plain": [
       "'Q1'"
      ]
     },
     "execution_count": 172,
     "metadata": {},
     "output_type": "execute_result"
    }
   ],
   "source": [
    "q = cola['Quarter'][0]\n",
    "q[0:2]"
   ]
  },
  {
   "cell_type": "code",
   "execution_count": 173,
   "metadata": {},
   "outputs": [],
   "source": [
    "cola['quarter'] = 0"
   ]
  },
  {
   "cell_type": "code",
   "execution_count": 174,
   "metadata": {},
   "outputs": [
    {
     "name": "stderr",
     "output_type": "stream",
     "text": [
      "C:\\Users\\abhis\\anaconda3\\lib\\site-packages\\ipykernel_launcher.py:3: SettingWithCopyWarning: \n",
      "A value is trying to be set on a copy of a slice from a DataFrame\n",
      "\n",
      "See the caveats in the documentation: https://pandas.pydata.org/pandas-docs/stable/user_guide/indexing.html#returning-a-view-versus-a-copy\n",
      "  This is separate from the ipykernel package so we can avoid doing imports until\n",
      "C:\\Users\\abhis\\anaconda3\\lib\\site-packages\\pandas\\core\\indexing.py:670: SettingWithCopyWarning: \n",
      "A value is trying to be set on a copy of a slice from a DataFrame\n",
      "\n",
      "See the caveats in the documentation: https://pandas.pydata.org/pandas-docs/stable/user_guide/indexing.html#returning-a-view-versus-a-copy\n",
      "  self._setitem_with_indexer(indexer, value)\n"
     ]
    }
   ],
   "source": [
    "for i in range(42):\n",
    "    q = cola['Quarter'][i]\n",
    "    cola['quarter'][i] = q[0:2]"
   ]
  },
  {
   "cell_type": "code",
   "execution_count": 175,
   "metadata": {},
   "outputs": [
    {
     "data": {
      "text/html": [
       "<div>\n",
       "<style scoped>\n",
       "    .dataframe tbody tr th:only-of-type {\n",
       "        vertical-align: middle;\n",
       "    }\n",
       "\n",
       "    .dataframe tbody tr th {\n",
       "        vertical-align: top;\n",
       "    }\n",
       "\n",
       "    .dataframe thead th {\n",
       "        text-align: right;\n",
       "    }\n",
       "</style>\n",
       "<table border=\"1\" class=\"dataframe\">\n",
       "  <thead>\n",
       "    <tr style=\"text-align: right;\">\n",
       "      <th></th>\n",
       "      <th>Quarter</th>\n",
       "      <th>Sales</th>\n",
       "      <th>quarter</th>\n",
       "    </tr>\n",
       "  </thead>\n",
       "  <tbody>\n",
       "    <tr>\n",
       "      <th>0</th>\n",
       "      <td>Q1_86</td>\n",
       "      <td>1734.827000</td>\n",
       "      <td>Q1</td>\n",
       "    </tr>\n",
       "    <tr>\n",
       "      <th>1</th>\n",
       "      <td>Q2_86</td>\n",
       "      <td>2244.960999</td>\n",
       "      <td>Q2</td>\n",
       "    </tr>\n",
       "    <tr>\n",
       "      <th>2</th>\n",
       "      <td>Q3_86</td>\n",
       "      <td>2533.804993</td>\n",
       "      <td>Q3</td>\n",
       "    </tr>\n",
       "    <tr>\n",
       "      <th>3</th>\n",
       "      <td>Q4_86</td>\n",
       "      <td>2154.962997</td>\n",
       "      <td>Q4</td>\n",
       "    </tr>\n",
       "    <tr>\n",
       "      <th>4</th>\n",
       "      <td>Q1_87</td>\n",
       "      <td>1547.818996</td>\n",
       "      <td>Q1</td>\n",
       "    </tr>\n",
       "  </tbody>\n",
       "</table>\n",
       "</div>"
      ],
      "text/plain": [
       "  Quarter        Sales quarter\n",
       "0   Q1_86  1734.827000      Q1\n",
       "1   Q2_86  2244.960999      Q2\n",
       "2   Q3_86  2533.804993      Q3\n",
       "3   Q4_86  2154.962997      Q4\n",
       "4   Q1_87  1547.818996      Q1"
      ]
     },
     "execution_count": 175,
     "metadata": {},
     "output_type": "execute_result"
    }
   ],
   "source": [
    "cola.head()"
   ]
  },
  {
   "cell_type": "code",
   "execution_count": 176,
   "metadata": {},
   "outputs": [],
   "source": [
    "Dummy_Q = pd.DataFrame(pd.get_dummies(cola['quarter']))"
   ]
  },
  {
   "cell_type": "code",
   "execution_count": 177,
   "metadata": {},
   "outputs": [],
   "source": [
    "New_cola = pd.concat([cola,Dummy_Q],axis = 1)"
   ]
  },
  {
   "cell_type": "code",
   "execution_count": 178,
   "metadata": {},
   "outputs": [
    {
     "data": {
      "text/html": [
       "<div>\n",
       "<style scoped>\n",
       "    .dataframe tbody tr th:only-of-type {\n",
       "        vertical-align: middle;\n",
       "    }\n",
       "\n",
       "    .dataframe tbody tr th {\n",
       "        vertical-align: top;\n",
       "    }\n",
       "\n",
       "    .dataframe thead th {\n",
       "        text-align: right;\n",
       "    }\n",
       "</style>\n",
       "<table border=\"1\" class=\"dataframe\">\n",
       "  <thead>\n",
       "    <tr style=\"text-align: right;\">\n",
       "      <th></th>\n",
       "      <th>Quarter</th>\n",
       "      <th>Sales</th>\n",
       "      <th>quarter</th>\n",
       "      <th>Q1</th>\n",
       "      <th>Q2</th>\n",
       "      <th>Q3</th>\n",
       "      <th>Q4</th>\n",
       "    </tr>\n",
       "  </thead>\n",
       "  <tbody>\n",
       "    <tr>\n",
       "      <th>0</th>\n",
       "      <td>Q1_86</td>\n",
       "      <td>1734.827000</td>\n",
       "      <td>Q1</td>\n",
       "      <td>1</td>\n",
       "      <td>0</td>\n",
       "      <td>0</td>\n",
       "      <td>0</td>\n",
       "    </tr>\n",
       "    <tr>\n",
       "      <th>1</th>\n",
       "      <td>Q2_86</td>\n",
       "      <td>2244.960999</td>\n",
       "      <td>Q2</td>\n",
       "      <td>0</td>\n",
       "      <td>1</td>\n",
       "      <td>0</td>\n",
       "      <td>0</td>\n",
       "    </tr>\n",
       "    <tr>\n",
       "      <th>2</th>\n",
       "      <td>Q3_86</td>\n",
       "      <td>2533.804993</td>\n",
       "      <td>Q3</td>\n",
       "      <td>0</td>\n",
       "      <td>0</td>\n",
       "      <td>1</td>\n",
       "      <td>0</td>\n",
       "    </tr>\n",
       "    <tr>\n",
       "      <th>3</th>\n",
       "      <td>Q4_86</td>\n",
       "      <td>2154.962997</td>\n",
       "      <td>Q4</td>\n",
       "      <td>0</td>\n",
       "      <td>0</td>\n",
       "      <td>0</td>\n",
       "      <td>1</td>\n",
       "    </tr>\n",
       "    <tr>\n",
       "      <th>4</th>\n",
       "      <td>Q1_87</td>\n",
       "      <td>1547.818996</td>\n",
       "      <td>Q1</td>\n",
       "      <td>1</td>\n",
       "      <td>0</td>\n",
       "      <td>0</td>\n",
       "      <td>0</td>\n",
       "    </tr>\n",
       "  </tbody>\n",
       "</table>\n",
       "</div>"
      ],
      "text/plain": [
       "  Quarter        Sales quarter  Q1  Q2  Q3  Q4\n",
       "0   Q1_86  1734.827000      Q1   1   0   0   0\n",
       "1   Q2_86  2244.960999      Q2   0   1   0   0\n",
       "2   Q3_86  2533.804993      Q3   0   0   1   0\n",
       "3   Q4_86  2154.962997      Q4   0   0   0   1\n",
       "4   Q1_87  1547.818996      Q1   1   0   0   0"
      ]
     },
     "execution_count": 178,
     "metadata": {},
     "output_type": "execute_result"
    }
   ],
   "source": [
    "New_cola.head()"
   ]
  },
  {
   "cell_type": "code",
   "execution_count": 179,
   "metadata": {},
   "outputs": [],
   "source": [
    "t = np.arange(0,42)    "
   ]
  },
  {
   "cell_type": "code",
   "execution_count": 180,
   "metadata": {},
   "outputs": [],
   "source": [
    "New_cola['t'] = t"
   ]
  },
  {
   "cell_type": "code",
   "execution_count": 181,
   "metadata": {},
   "outputs": [],
   "source": [
    "New_cola['t_squared'] = New_cola['t'] * New_cola['t']"
   ]
  },
  {
   "cell_type": "code",
   "execution_count": 182,
   "metadata": {},
   "outputs": [
    {
     "data": {
      "text/html": [
       "<div>\n",
       "<style scoped>\n",
       "    .dataframe tbody tr th:only-of-type {\n",
       "        vertical-align: middle;\n",
       "    }\n",
       "\n",
       "    .dataframe tbody tr th {\n",
       "        vertical-align: top;\n",
       "    }\n",
       "\n",
       "    .dataframe thead th {\n",
       "        text-align: right;\n",
       "    }\n",
       "</style>\n",
       "<table border=\"1\" class=\"dataframe\">\n",
       "  <thead>\n",
       "    <tr style=\"text-align: right;\">\n",
       "      <th></th>\n",
       "      <th>Quarter</th>\n",
       "      <th>Sales</th>\n",
       "      <th>quarter</th>\n",
       "      <th>Q1</th>\n",
       "      <th>Q2</th>\n",
       "      <th>Q3</th>\n",
       "      <th>Q4</th>\n",
       "      <th>t</th>\n",
       "      <th>t_squared</th>\n",
       "    </tr>\n",
       "  </thead>\n",
       "  <tbody>\n",
       "    <tr>\n",
       "      <th>0</th>\n",
       "      <td>Q1_86</td>\n",
       "      <td>1734.827000</td>\n",
       "      <td>Q1</td>\n",
       "      <td>1</td>\n",
       "      <td>0</td>\n",
       "      <td>0</td>\n",
       "      <td>0</td>\n",
       "      <td>0</td>\n",
       "      <td>0</td>\n",
       "    </tr>\n",
       "    <tr>\n",
       "      <th>1</th>\n",
       "      <td>Q2_86</td>\n",
       "      <td>2244.960999</td>\n",
       "      <td>Q2</td>\n",
       "      <td>0</td>\n",
       "      <td>1</td>\n",
       "      <td>0</td>\n",
       "      <td>0</td>\n",
       "      <td>1</td>\n",
       "      <td>1</td>\n",
       "    </tr>\n",
       "    <tr>\n",
       "      <th>2</th>\n",
       "      <td>Q3_86</td>\n",
       "      <td>2533.804993</td>\n",
       "      <td>Q3</td>\n",
       "      <td>0</td>\n",
       "      <td>0</td>\n",
       "      <td>1</td>\n",
       "      <td>0</td>\n",
       "      <td>2</td>\n",
       "      <td>4</td>\n",
       "    </tr>\n",
       "    <tr>\n",
       "      <th>3</th>\n",
       "      <td>Q4_86</td>\n",
       "      <td>2154.962997</td>\n",
       "      <td>Q4</td>\n",
       "      <td>0</td>\n",
       "      <td>0</td>\n",
       "      <td>0</td>\n",
       "      <td>1</td>\n",
       "      <td>3</td>\n",
       "      <td>9</td>\n",
       "    </tr>\n",
       "    <tr>\n",
       "      <th>4</th>\n",
       "      <td>Q1_87</td>\n",
       "      <td>1547.818996</td>\n",
       "      <td>Q1</td>\n",
       "      <td>1</td>\n",
       "      <td>0</td>\n",
       "      <td>0</td>\n",
       "      <td>0</td>\n",
       "      <td>4</td>\n",
       "      <td>16</td>\n",
       "    </tr>\n",
       "  </tbody>\n",
       "</table>\n",
       "</div>"
      ],
      "text/plain": [
       "  Quarter        Sales quarter  Q1  Q2  Q3  Q4  t  t_squared\n",
       "0   Q1_86  1734.827000      Q1   1   0   0   0  0          0\n",
       "1   Q2_86  2244.960999      Q2   0   1   0   0  1          1\n",
       "2   Q3_86  2533.804993      Q3   0   0   1   0  2          4\n",
       "3   Q4_86  2154.962997      Q4   0   0   0   1  3          9\n",
       "4   Q1_87  1547.818996      Q1   1   0   0   0  4         16"
      ]
     },
     "execution_count": 182,
     "metadata": {},
     "output_type": "execute_result"
    }
   ],
   "source": [
    "New_cola.head()"
   ]
  },
  {
   "cell_type": "code",
   "execution_count": 183,
   "metadata": {},
   "outputs": [],
   "source": [
    "New_cola['log_sales']= np.log(New_cola['Sales'])"
   ]
  },
  {
   "cell_type": "code",
   "execution_count": 184,
   "metadata": {},
   "outputs": [
    {
     "name": "stdout",
     "output_type": "stream",
     "text": [
      "  Quarter        Sales quarter  Q1  Q2  Q3  Q4  t  t_squared  log_sales\n",
      "0   Q1_86  1734.827000      Q1   1   0   0   0  0          0   7.458663\n",
      "1   Q2_86  2244.960999      Q2   0   1   0   0  1          1   7.716443\n",
      "2   Q3_86  2533.804993      Q3   0   0   1   0  2          4   7.837477\n",
      "3   Q4_86  2154.962997      Q4   0   0   0   1  3          9   7.675529\n",
      "4   Q1_87  1547.818996      Q1   1   0   0   0  4         16   7.344602\n"
     ]
    }
   ],
   "source": [
    "print(New_cola.head())"
   ]
  },
  {
   "cell_type": "code",
   "execution_count": 185,
   "metadata": {},
   "outputs": [
    {
     "data": {
      "text/plain": [
       "<matplotlib.axes._subplots.AxesSubplot at 0x2657c8eb188>"
      ]
     },
     "execution_count": 185,
     "metadata": {},
     "output_type": "execute_result"
    },
    {
     "data": {
      "image/png": "[encoded data removed]",
      "text/plain": [
       "<Figure size 432x288 with 1 Axes>"
      ]
     },
     "metadata": {
      "needs_background": "light"
     },
     "output_type": "display_data"
    }
   ],
   "source": [
    "New_cola.plot()"
   ]
  },
  {
   "cell_type": "code",
   "execution_count": 103,
   "metadata": {},
   "outputs": [],
   "source": [
    "#New_cola.to_csv('New_pred.csv',index=False)"
   ]
  },
  {
   "cell_type": "code",
   "execution_count": 104,
   "metadata": {},
   "outputs": [],
   "source": [
    "from sklearn.model_selection import train_test_split"
   ]
  },
  {
   "cell_type": "code",
   "execution_count": 105,
   "metadata": {},
   "outputs": [],
   "source": [
    "train,test = train_test_split(New_cola,test_size=0.1,random_state=42)"
   ]
  },
  {
   "cell_type": "code",
   "execution_count": 106,
   "metadata": {},
   "outputs": [
    {
     "name": "stdout",
     "output_type": "stream",
     "text": [
      "Train Data: \n",
      "\n",
      "    Quarter        Sales quarter  Q1  Q2  Q3  Q4   t  t_squared  log_sales\n",
      "39   Q4_95  4333.000000      Q4   0   0   0   1  39       1521   8.374015\n",
      "19   Q4_90  2556.009995      Q4   0   0   0   1  19        361   7.846203\n",
      "29   Q2_93  3899.000000      Q2   0   1   0   0  29        841   8.268475\n",
      "30   Q3_93  3629.000000      Q3   0   0   1   0  30        900   8.196712\n",
      "6    Q3_87  2014.362999      Q3   0   0   1   0   6         36   7.608058\n",
      "27   Q4_92  3243.859993      Q4   0   0   0   1  27        729   8.084519\n",
      "12   Q1_89  1910.603996      Q1   1   0   0   0  12        144   7.555175\n",
      "17   Q2_90  2739.307999      Q2   0   1   0   0  17        289   7.915461\n",
      "9    Q2_88  2313.631996      Q2   0   1   0   0   9         81   7.746574\n",
      "15   Q4_89  2173.967995      Q4   0   0   0   1  15        225   7.684309\n",
      "33   Q2_94  4342.000000      Q2   0   1   0   0  33       1089   8.376090\n",
      "16   Q1_90  2148.278000      Q1   1   0   0   0  16        256   7.672422\n",
      "36   Q1_95  3854.000000      Q1   1   0   0   0  36       1296   8.256867\n",
      "35   Q4_94  4017.000000      Q4   0   0   0   1  35       1225   8.298291\n",
      "0    Q1_86  1734.827000      Q1   1   0   0   0   0          0   7.458663\n",
      "24   Q1_92  2772.000000      Q1   1   0   0   0  24        576   7.927324\n",
      "5    Q2_87  2104.411995      Q2   0   1   0   0   5         25   7.651791\n",
      "11   Q4_88  2026.828999      Q4   0   0   0   1  11        121   7.614228\n",
      "40   Q1_96  4194.000000      Q1   1   0   0   0  40       1600   8.341410\n",
      "1    Q2_86  2244.960999      Q2   0   1   0   0   1          1   7.716443\n",
      "31   Q4_93  3373.000000      Q4   0   0   0   1  31        961   8.123558\n",
      "21   Q2_91  3039.522995      Q2   0   1   0   0  21        441   8.019456\n",
      "2    Q3_86  2533.804993      Q3   0   0   1   0   2          4   7.837477\n",
      "32   Q1_94  3352.000000      Q1   1   0   0   0  32       1024   8.117312\n",
      "41   Q2_96  5253.000000      Q2   0   1   0   0  41       1681   8.566555\n",
      "3    Q4_86  2154.962997      Q4   0   0   0   1   3          9   7.675529\n",
      "37   Q2_95  4936.000000      Q2   0   1   0   0  37       1369   8.504311\n",
      "23   Q4_91  2879.000999      Q4   0   0   0   1  23        529   7.965199\n",
      "34   Q3_94  4461.000000      Q3   0   0   1   0  34       1156   8.403128\n",
      "10   Q3_88  2128.320000      Q3   0   0   1   0  10        100   7.663088\n",
      "22   Q3_91  3172.115997      Q3   0   0   1   0  22        484   8.062154\n",
      "18   Q3_90  2792.753998      Q3   0   0   1   0  18        324   7.934783\n",
      "20   Q1_91  2480.973999      Q1   1   0   0   0  20        400   7.816407\n",
      "7    Q4_87  1991.746998      Q4   0   0   0   1   7         49   7.596767\n",
      "14   Q3_89  2206.549995      Q3   0   0   1   0  14        196   7.699185\n",
      "28   Q1_93  3056.000000      Q1   1   0   0   0  28        784   8.024862\n",
      "38   Q3_95  4895.000000      Q3   0   0   1   0  38       1444   8.495970\n",
      "\n",
      " Test Data: \n",
      "\n",
      "    Quarter        Sales quarter  Q1  Q2  Q3  Q4   t  t_squared  log_sales\n",
      "25   Q2_92  3550.000000      Q2   0   1   0   0  25        625   8.174703\n",
      "13   Q2_89  2331.164993      Q2   0   1   0   0  13        169   7.754123\n",
      "8    Q1_88  1869.049999      Q1   1   0   0   0   8         64   7.533186\n",
      "26   Q3_92  3508.000000      Q3   0   0   1   0  26        676   8.162801\n",
      "4    Q1_87  1547.818996      Q1   1   0   0   0   4         16   7.344602\n"
     ]
    }
   ],
   "source": [
    "print('Train Data: \\n\\n',train)\n",
    "print('\\n Test Data: \\n\\n',test)"
   ]
  },
  {
   "cell_type": "code",
   "execution_count": 107,
   "metadata": {},
   "outputs": [],
   "source": [
    "import statsmodels.formula.api as smf"
   ]
  },
  {
   "cell_type": "code",
   "execution_count": 108,
   "metadata": {},
   "outputs": [],
   "source": [
    "# Linear model\n",
    "\n",
    "linear = smf.ols('Sales~t',data=train).fit()"
   ]
  },
  {
   "cell_type": "code",
   "execution_count": 109,
   "metadata": {},
   "outputs": [
    {
     "name": "stdout",
     "output_type": "stream",
     "text": [
      "Predicted Value :\n",
      "\n",
      " 25    3323.976095\n",
      "13    2464.235187\n",
      "8     2106.009809\n",
      "26    3395.621171\n",
      "4     1819.429506\n",
      "dtype: float64\n"
     ]
    }
   ],
   "source": [
    "pred_linear = pd.Series(linear.predict(test['t']))\n",
    "print('Predicted Value :\\n\\n',pred_linear)"
   ]
  },
  {
   "cell_type": "code",
   "execution_count": 110,
   "metadata": {},
   "outputs": [
    {
     "name": "stdout",
     "output_type": "stream",
     "text": [
      "\n",
      "RMSE Value : 205.59460284749542\n"
     ]
    }
   ],
   "source": [
    "rmse_linear = np.sqrt(np.mean((np.array(test['Sales'])-np.array(pred_linear))**2))\n",
    "print('\\nRMSE Value :', rmse_linear)"
   ]
  },
  {
   "cell_type": "code",
   "execution_count": 111,
   "metadata": {},
   "outputs": [],
   "source": [
    "# Exponential model\n",
    "\n",
    "Exponential = smf.ols('log_sales~t',train).fit()"
   ]
  },
  {
   "cell_type": "code",
   "execution_count": 112,
   "metadata": {},
   "outputs": [
    {
     "name": "stdout",
     "output_type": "stream",
     "text": [
      "Predicted Value :\n",
      "\n",
      " 25    8.063403\n",
      "13    7.785077\n",
      "8     7.669108\n",
      "26    8.086597\n",
      "4     7.576333\n",
      "dtype: float64\n"
     ]
    }
   ],
   "source": [
    "pred_exponential = Exponential.predict(test['t'])\n",
    "print('Predicted Value :\\n\\n',pred_exponential)"
   ]
  },
  {
   "cell_type": "code",
   "execution_count": 113,
   "metadata": {},
   "outputs": [
    {
     "name": "stdout",
     "output_type": "stream",
     "text": [
      "RMSE Value : 299.47159168548944\n"
     ]
    }
   ],
   "source": [
    "rmse_exponential = np.sqrt(np.mean((np.array(test['Sales'])-np.array(np.exp(pred_exponential)))**2))\n",
    "print('RMSE Value :',rmse_exponential)"
   ]
  },
  {
   "cell_type": "code",
   "execution_count": 114,
   "metadata": {},
   "outputs": [],
   "source": [
    "# Quadratic model\n",
    "\n",
    "quadratic = smf.ols('Sales~t+t_squared',train).fit()"
   ]
  },
  {
   "cell_type": "code",
   "execution_count": 115,
   "metadata": {},
   "outputs": [
    {
     "name": "stdout",
     "output_type": "stream",
     "text": [
      "Predicted Value :\n",
      "\n",
      " 25    3059.909209\n",
      "13    2282.077508\n",
      "8     2125.751617\n",
      "26    3150.387558\n",
      "4     2071.746710\n",
      "dtype: float64\n"
     ]
    }
   ],
   "source": [
    "pred_quadratic = quadratic.predict(test[['t','t_squared']])\n",
    "print('Predicted Value :\\n\\n',pred_quadratic)"
   ]
  },
  {
   "cell_type": "code",
   "execution_count": 116,
   "metadata": {},
   "outputs": [
    {
     "name": "stdout",
     "output_type": "stream",
     "text": [
      "RMSE Value : 377.06264543951374\n"
     ]
    }
   ],
   "source": [
    "rmse_quadratic = np.sqrt(np.mean((np.array(test['Sales'])-np.array(pred_quadratic))**2))\n",
    "print('RMSE Value :',rmse_quadratic)"
   ]
  },
  {
   "cell_type": "code",
   "execution_count": 117,
   "metadata": {},
   "outputs": [],
   "source": [
    "# Additive Seasonality\n",
    " \n",
    "Additive_seasonality = smf.ols('Sales~Q1+Q2+Q3+Q4',data=train).fit()"
   ]
  },
  {
   "cell_type": "code",
   "execution_count": 118,
   "metadata": {},
   "outputs": [
    {
     "name": "stdout",
     "output_type": "stream",
     "text": [
      "Predicted Value:\n",
      "\n",
      "25    3430.203998\n",
      "13    3430.203998\n",
      "8     2833.631444\n",
      "26    3092.545331\n",
      "4     2833.631444\n",
      "dtype: float64\n"
     ]
    }
   ],
   "source": [
    "pred_additive = Additive_seasonality.predict(test[['Q1','Q2','Q3','Q4']])\n",
    "print('Predicted Value:\\n')\n",
    "print(pred_additive)"
   ]
  },
  {
   "cell_type": "code",
   "execution_count": 119,
   "metadata": {},
   "outputs": [
    {
     "name": "stdout",
     "output_type": "stream",
     "text": [
      "RMSE Value : 892.0281846795668\n"
     ]
    }
   ],
   "source": [
    "rmse_additive = np.sqrt(np.mean((np.array(test['Sales'])-np.array(pred_additive))**2))\n",
    "print('RMSE Value :',rmse_additive)"
   ]
  },
  {
   "cell_type": "code",
   "execution_count": 120,
   "metadata": {},
   "outputs": [],
   "source": [
    "# Additive seasonality with linear trend.\n",
    "\n",
    "Additive_linear_seasonality = smf.ols('Sales~t+Q1+Q2+Q3+Q4',train).fit()"
   ]
  },
  {
   "cell_type": "code",
   "execution_count": 121,
   "metadata": {},
   "outputs": [
    {
     "name": "stdout",
     "output_type": "stream",
     "text": [
      "Predicted Value:\n",
      "\n",
      "25    3690.014770\n",
      "13    2813.153414\n",
      "8     1729.435662\n",
      "26    3579.690529\n",
      "4     1437.148544\n",
      "dtype: float64\n"
     ]
    }
   ],
   "source": [
    "pred_ALS = Additive_linear_seasonality.predict(test[['t','Q1','Q2','Q3','Q4']])\n",
    "print('Predicted Value:\\n')\n",
    "print(pred_ALS)"
   ]
  },
  {
   "cell_type": "code",
   "execution_count": 122,
   "metadata": {},
   "outputs": [
    {
     "name": "stdout",
     "output_type": "stream",
     "text": [
      "RMSE : 240.33169498816045\n"
     ]
    }
   ],
   "source": [
    "rmse_ALS = np.sqrt(np.mean((np.array(test['Sales'])-np.array(pred_ALS))**2))\n",
    "print('RMSE :',rmse_ALS)"
   ]
  },
  {
   "cell_type": "code",
   "execution_count": 123,
   "metadata": {},
   "outputs": [],
   "source": [
    "# Additive seasonality with Quadratic trend.\n",
    "\n",
    "Additive_quadratic_seasonality = smf.ols('Sales~t+t_squared+Q1+Q2+Q3+Q4',train).fit()"
   ]
  },
  {
   "cell_type": "code",
   "execution_count": 124,
   "metadata": {},
   "outputs": [
    {
     "name": "stdout",
     "output_type": "stream",
     "text": [
      "Predicted Value:\n",
      "\n",
      "25    3387.676653\n",
      "13    2584.580339\n",
      "8     1755.391815\n",
      "26    3371.377053\n",
      "4     1674.149700\n",
      "dtype: float64\n"
     ]
    }
   ],
   "source": [
    "pred_AQS = Additive_quadratic_seasonality.predict(test[['t','t_squared','Q1','Q2','Q3','Q4']])\n",
    "print('Predicted Value:\\n')\n",
    "print(pred_AQS)"
   ]
  },
  {
   "cell_type": "code",
   "execution_count": 125,
   "metadata": {},
   "outputs": [
    {
     "name": "stdout",
     "output_type": "stream",
     "text": [
      "RMSE : 166.19967833728654\n"
     ]
    }
   ],
   "source": [
    "rmse_AQS = np.sqrt(np.mean((np.array(test['Sales'])-np.array(pred_AQS))**2))\n",
    "print('RMSE :',rmse_AQS)"
   ]
  },
  {
   "cell_type": "code",
   "execution_count": 126,
   "metadata": {},
   "outputs": [],
   "source": [
    "# Multiplicative seasonality\n",
    "\n",
    "mulplicative_seasonality = smf.ols('log_sales~Q1+Q2+Q3+Q4',train).fit()"
   ]
  },
  {
   "cell_type": "code",
   "execution_count": 127,
   "metadata": {},
   "outputs": [
    {
     "name": "stdout",
     "output_type": "stream",
     "text": [
      "Predicted Value:\n",
      "\n",
      "25    8.085017\n",
      "13    8.085017\n",
      "8     7.907827\n",
      "26    7.988951\n",
      "4     7.907827\n",
      "dtype: float64\n"
     ]
    }
   ],
   "source": [
    "pred_MS = mulplicative_seasonality.predict(test[['Q1','Q2','Q3','Q4']])\n",
    "print('Predicted Value:\\n')\n",
    "print(pred_MS)"
   ]
  },
  {
   "cell_type": "code",
   "execution_count": 128,
   "metadata": {},
   "outputs": [
    {
     "name": "stdout",
     "output_type": "stream",
     "text": [
      "RMSE : 816.5828501493063\n"
     ]
    }
   ],
   "source": [
    "rmse_MS = np.sqrt(np.mean((np.array(test['Sales'])-np.array(np.exp(pred_MS)))**2))\n",
    "print('RMSE :',rmse_MS)"
   ]
  },
  {
   "cell_type": "code",
   "execution_count": 129,
   "metadata": {},
   "outputs": [],
   "source": [
    "# Multiplicative seasonality with linear trend\n",
    "\n",
    "mulplicative_linear_seasonality = smf.ols('log_sales~t+Q1+Q2+Q3+Q4',train).fit()"
   ]
  },
  {
   "cell_type": "code",
   "execution_count": 130,
   "metadata": {},
   "outputs": [
    {
     "name": "stdout",
     "output_type": "stream",
     "text": [
      "Predicted Value:\n",
      "\n",
      "25    8.169125\n",
      "13    7.885261\n",
      "8     7.550369\n",
      "26    8.146653\n",
      "4     7.455748\n",
      "dtype: float64\n"
     ]
    }
   ],
   "source": [
    "pred_MLS = mulplicative_linear_seasonality.predict(test[['t','Q1','Q2','Q3','Q4']])\n",
    "print('Predicted Value:\\n')\n",
    "print(pred_MLS)"
   ]
  },
  {
   "cell_type": "code",
   "execution_count": 131,
   "metadata": {},
   "outputs": [
    {
     "name": "stdout",
     "output_type": "stream",
     "text": [
      "RMSE : 169.94664269792275\n"
     ]
    }
   ],
   "source": [
    "rmse_MLS = np.sqrt(np.mean((np.array(test['Sales'])-np.array(np.exp(pred_MLS)))**2))\n",
    "print('RMSE :',rmse_MLS)"
   ]
  },
  {
   "cell_type": "code",
   "execution_count": 132,
   "metadata": {},
   "outputs": [],
   "source": [
    "# Multiplicative seasonality with quadratic trend\n",
    "\n",
    "mulplicative_quadratic_seasonality = smf.ols('log_sales~t+t_squared+Q1+Q2+Q3+Q4',train).fit()"
   ]
  },
  {
   "cell_type": "code",
   "execution_count": 133,
   "metadata": {},
   "outputs": [
    {
     "name": "stdout",
     "output_type": "stream",
     "text": [
      "Predicted Value:\n",
      "\n",
      "25    8.104757\n",
      "13    7.836598\n",
      "8     7.555895\n",
      "26    8.102303\n",
      "4     7.506205\n",
      "dtype: float64\n"
     ]
    }
   ],
   "source": [
    "pred_MQS = mulplicative_quadratic_seasonality.predict(test[['t','t_squared','Q1','Q2','Q3','Q4']])\n",
    "print('Predicted Value:\\n')\n",
    "print(pred_MQS)"
   ]
  },
  {
   "cell_type": "code",
   "execution_count": 134,
   "metadata": {},
   "outputs": [
    {
     "name": "stdout",
     "output_type": "stream",
     "text": [
      "RMSE : 207.66946741448976\n"
     ]
    }
   ],
   "source": [
    "rmse_MQS = np.sqrt(np.mean((np.array(test['Sales'])-np.array(np.exp(pred_MQS)))**2))\n",
    "print('RMSE :',rmse_MQS)"
   ]
  },
  {
   "cell_type": "code",
   "execution_count": 135,
   "metadata": {},
   "outputs": [],
   "source": [
    "# Tabulating the rmse values\n",
    "\n",
    "df = {'Model':pd.Series(['rmse_linear','rmse_exponential','rmse_quadratic','rmse_additive','rmse_ALS','rmse_AQS','rmse_MS','rmse_MLS','rmse_MQS'])\n",
    "                         ,'Values':pd.Series([rmse_linear,rmse_exponential,rmse_quadratic,rmse_additive,rmse_ALS,rmse_AQS,rmse_MS,rmse_MLS,rmse_MQS])}\n"
   ]
  },
  {
   "cell_type": "code",
   "execution_count": 136,
   "metadata": {},
   "outputs": [],
   "source": [
    "RMSE_table = pd.DataFrame(df)"
   ]
  },
  {
   "cell_type": "code",
   "execution_count": 137,
   "metadata": {},
   "outputs": [
    {
     "data": {
      "text/html": [
       "<div>\n",
       "<style scoped>\n",
       "    .dataframe tbody tr th:only-of-type {\n",
       "        vertical-align: middle;\n",
       "    }\n",
       "\n",
       "    .dataframe tbody tr th {\n",
       "        vertical-align: top;\n",
       "    }\n",
       "\n",
       "    .dataframe thead th {\n",
       "        text-align: right;\n",
       "    }\n",
       "</style>\n",
       "<table border=\"1\" class=\"dataframe\">\n",
       "  <thead>\n",
       "    <tr style=\"text-align: right;\">\n",
       "      <th></th>\n",
       "      <th>Model</th>\n",
       "      <th>Values</th>\n",
       "    </tr>\n",
       "  </thead>\n",
       "  <tbody>\n",
       "    <tr>\n",
       "      <th>0</th>\n",
       "      <td>rmse_linear</td>\n",
       "      <td>205.594603</td>\n",
       "    </tr>\n",
       "    <tr>\n",
       "      <th>1</th>\n",
       "      <td>rmse_exponential</td>\n",
       "      <td>299.471592</td>\n",
       "    </tr>\n",
       "    <tr>\n",
       "      <th>2</th>\n",
       "      <td>rmse_quadratic</td>\n",
       "      <td>377.062645</td>\n",
       "    </tr>\n",
       "    <tr>\n",
       "      <th>3</th>\n",
       "      <td>rmse_additive</td>\n",
       "      <td>892.028185</td>\n",
       "    </tr>\n",
       "    <tr>\n",
       "      <th>4</th>\n",
       "      <td>rmse_ALS</td>\n",
       "      <td>240.331695</td>\n",
       "    </tr>\n",
       "    <tr>\n",
       "      <th>5</th>\n",
       "      <td>rmse_AQS</td>\n",
       "      <td>166.199678</td>\n",
       "    </tr>\n",
       "    <tr>\n",
       "      <th>6</th>\n",
       "      <td>rmse_MS</td>\n",
       "      <td>816.582850</td>\n",
       "    </tr>\n",
       "    <tr>\n",
       "      <th>7</th>\n",
       "      <td>rmse_MLS</td>\n",
       "      <td>169.946643</td>\n",
       "    </tr>\n",
       "    <tr>\n",
       "      <th>8</th>\n",
       "      <td>rmse_MQS</td>\n",
       "      <td>207.669467</td>\n",
       "    </tr>\n",
       "  </tbody>\n",
       "</table>\n",
       "</div>"
      ],
      "text/plain": [
       "              Model      Values\n",
       "0       rmse_linear  205.594603\n",
       "1  rmse_exponential  299.471592\n",
       "2    rmse_quadratic  377.062645\n",
       "3     rmse_additive  892.028185\n",
       "4          rmse_ALS  240.331695\n",
       "5          rmse_AQS  166.199678\n",
       "6           rmse_MS  816.582850\n",
       "7          rmse_MLS  169.946643\n",
       "8          rmse_MQS  207.669467"
      ]
     },
     "execution_count": 137,
     "metadata": {},
     "output_type": "execute_result"
    }
   ],
   "source": [
    "RMSE_table"
   ]
  },
  {
   "cell_type": "code",
   "execution_count": 55,
   "metadata": {},
   "outputs": [],
   "source": [
    "# Finish timeseries assignment.\n",
    "# Complete text mining assignment and learn sentiment analysis."
   ]
  },
  {
   "cell_type": "code",
   "execution_count": 74,
   "metadata": {},
   "outputs": [],
   "source": [
    "cola_pred = pd.read_csv(r'C:\\Users\\abhis\\OneDrive\\Desktop\\DATA SCIENCE\\ExcelR\\Assignments\\Machine Learning - ExcelR\\9. Time Series\\New_pred.csv')"
   ]
  },
  {
   "cell_type": "code",
   "execution_count": 191,
   "metadata": {},
   "outputs": [
    {
     "name": "stdout",
     "output_type": "stream",
     "text": [
      "0     1626.592727\n",
      "1     2268.402339\n",
      "2     2189.685821\n",
      "3     1867.242917\n",
      "4     1658.311143\n",
      "5     2314.185178\n",
      "6     2249.533083\n",
      "7     1941.154603\n",
      "8     1746.287252\n",
      "9     2416.225709\n",
      "10    2365.638037\n",
      "11    2071.323979\n",
      "12    1890.521051\n",
      "13    2574.523931\n",
      "14    2538.000682\n",
      "15    2257.751047\n",
      "16    2091.012542\n",
      "17    2789.079845\n",
      "18    2766.621019\n",
      "19    2500.435807\n",
      "20    2347.761724\n",
      "21    3059.893450\n",
      "22    3051.499047\n",
      "23    2799.378257\n",
      "24    2660.768598\n",
      "25    3386.964746\n",
      "26    3392.634766\n",
      "27    3154.578400\n",
      "28    3030.033163\n",
      "29    3770.293734\n",
      "30    3790.028177\n",
      "31    3566.036233\n",
      "32    3455.555419\n",
      "33    4209.880414\n",
      "34    4243.679279\n",
      "35    4033.751758\n",
      "36    3937.335367\n",
      "37    4705.724784\n",
      "38    4753.588072\n",
      "39    4557.724974\n",
      "40    4475.373006\n",
      "41    5257.826846\n",
      "dtype: float64\n"
     ]
    }
   ],
   "source": [
    "CocaCola_TS = smf.ols('Sales~t+t_squared+Q1+Q2+Q3+Q4',data=New_cola).fit()\n",
    "pred= pd.Series(CocaCola_TS.predict(cola_pred))\n",
    "print(pred)"
   ]
  },
  {
   "cell_type": "code",
   "execution_count": 209,
   "metadata": {},
   "outputs": [
    {
     "data": {
      "text/plain": [
       "<statsmodels.regression.linear_model.RegressionResultsWrapper at 0x2657db66048>"
      ]
     },
     "execution_count": 209,
     "metadata": {},
     "output_type": "execute_result"
    }
   ],
   "source": [
    "CocaCola_TS"
   ]
  },
  {
   "cell_type": "code",
   "execution_count": null,
   "metadata": {},
   "outputs": [],
   "source": []
  },
  {
   "cell_type": "code",
   "execution_count": 161,
   "metadata": {},
   "outputs": [
    {
     "data": {
      "text/html": [
       "<div>\n",
       "<style scoped>\n",
       "    .dataframe tbody tr th:only-of-type {\n",
       "        vertical-align: middle;\n",
       "    }\n",
       "\n",
       "    .dataframe tbody tr th {\n",
       "        vertical-align: top;\n",
       "    }\n",
       "\n",
       "    .dataframe thead th {\n",
       "        text-align: right;\n",
       "    }\n",
       "</style>\n",
       "<table border=\"1\" class=\"dataframe\">\n",
       "  <thead>\n",
       "    <tr style=\"text-align: right;\">\n",
       "      <th></th>\n",
       "      <th>Quarter</th>\n",
       "      <th>Sales</th>\n",
       "      <th>quarter</th>\n",
       "      <th>Q1</th>\n",
       "      <th>Q2</th>\n",
       "      <th>Q3</th>\n",
       "      <th>Q4</th>\n",
       "      <th>t</th>\n",
       "      <th>t_squared</th>\n",
       "      <th>log_sales</th>\n",
       "      <th>forecasted_Sales</th>\n",
       "    </tr>\n",
       "  </thead>\n",
       "  <tbody>\n",
       "    <tr>\n",
       "      <th>0</th>\n",
       "      <td>Q1_86</td>\n",
       "      <td>1734.827000</td>\n",
       "      <td>Q1</td>\n",
       "      <td>1</td>\n",
       "      <td>0</td>\n",
       "      <td>0</td>\n",
       "      <td>0</td>\n",
       "      <td>0</td>\n",
       "      <td>0</td>\n",
       "      <td>7.458663</td>\n",
       "      <td>1626.592727</td>\n",
       "    </tr>\n",
       "    <tr>\n",
       "      <th>1</th>\n",
       "      <td>Q2_86</td>\n",
       "      <td>2244.960999</td>\n",
       "      <td>Q2</td>\n",
       "      <td>0</td>\n",
       "      <td>1</td>\n",
       "      <td>0</td>\n",
       "      <td>0</td>\n",
       "      <td>1</td>\n",
       "      <td>1</td>\n",
       "      <td>7.716443</td>\n",
       "      <td>2268.402339</td>\n",
       "    </tr>\n",
       "    <tr>\n",
       "      <th>2</th>\n",
       "      <td>Q3_86</td>\n",
       "      <td>2533.804993</td>\n",
       "      <td>Q3</td>\n",
       "      <td>0</td>\n",
       "      <td>0</td>\n",
       "      <td>1</td>\n",
       "      <td>0</td>\n",
       "      <td>2</td>\n",
       "      <td>4</td>\n",
       "      <td>7.837477</td>\n",
       "      <td>2189.685821</td>\n",
       "    </tr>\n",
       "    <tr>\n",
       "      <th>3</th>\n",
       "      <td>Q4_86</td>\n",
       "      <td>2154.962997</td>\n",
       "      <td>Q4</td>\n",
       "      <td>0</td>\n",
       "      <td>0</td>\n",
       "      <td>0</td>\n",
       "      <td>1</td>\n",
       "      <td>3</td>\n",
       "      <td>9</td>\n",
       "      <td>7.675529</td>\n",
       "      <td>1867.242917</td>\n",
       "    </tr>\n",
       "    <tr>\n",
       "      <th>4</th>\n",
       "      <td>Q1_87</td>\n",
       "      <td>1547.818996</td>\n",
       "      <td>Q1</td>\n",
       "      <td>1</td>\n",
       "      <td>0</td>\n",
       "      <td>0</td>\n",
       "      <td>0</td>\n",
       "      <td>4</td>\n",
       "      <td>16</td>\n",
       "      <td>7.344602</td>\n",
       "      <td>1658.311143</td>\n",
       "    </tr>\n",
       "  </tbody>\n",
       "</table>\n",
       "</div>"
      ],
      "text/plain": [
       "  Quarter        Sales quarter  Q1  Q2  Q3  Q4  t  t_squared  log_sales  \\\n",
       "0   Q1_86  1734.827000      Q1   1   0   0   0  0          0   7.458663   \n",
       "1   Q2_86  2244.960999      Q2   0   1   0   0  1          1   7.716443   \n",
       "2   Q3_86  2533.804993      Q3   0   0   1   0  2          4   7.837477   \n",
       "3   Q4_86  2154.962997      Q4   0   0   0   1  3          9   7.675529   \n",
       "4   Q1_87  1547.818996      Q1   1   0   0   0  4         16   7.344602   \n",
       "\n",
       "   forecasted_Sales  \n",
       "0       1626.592727  \n",
       "1       2268.402339  \n",
       "2       2189.685821  \n",
       "3       1867.242917  \n",
       "4       1658.311143  "
      ]
     },
     "execution_count": 161,
     "metadata": {},
     "output_type": "execute_result"
    }
   ],
   "source": [
    "cola_pred['forecasted_Sales'] = pd.Series(pred)\n",
    "cola_pred.head()"
   ]
  },
  {
   "cell_type": "code",
   "execution_count": 212,
   "metadata": {},
   "outputs": [
    {
     "data": {
      "text/plain": [
       "<matplotlib.axes._subplots.AxesSubplot at 0x2657dbc2d48>"
      ]
     },
     "execution_count": 212,
     "metadata": {},
     "output_type": "execute_result"
    },
    {
     "data": {
      "text/plain": [
       "<Figure size 720x576 with 0 Axes>"
      ]
     },
     "metadata": {},
     "output_type": "display_data"
    },
    {
     "data": {
      "image/png": "[encoded data removed]",
      "text/plain": [
       "<Figure size 432x288 with 1 Axes>"
      ]
     },
     "metadata": {
      "needs_background": "light"
     },
     "output_type": "display_data"
    }
   ],
   "source": [
    "plt.figure(figsize=(10,8))\n",
    "cola_pred.plot()\n"
   ]
  },
  {
   "cell_type": "code",
   "execution_count": null,
   "metadata": {},
   "outputs": [],
   "source": []
  }
 ],
 "metadata": {
  "celltoolbar": "Raw Cell Format",
  "kernelspec": {
   "display_name": "Python 3",
   "language": "python",
   "name": "python3"
  },
  "language_info": {
   "codemirror_mode": {
    "name": "ipython",
    "version": 3
   },
   "file_extension": ".py",
   "mimetype": "text/x-python",
   "name": "python",
   "nbconvert_exporter": "python",
   "pygments_lexer": "ipython3",
   "version": "3.7.6"
  }
 },
 "nbformat": 4,
 "nbformat_minor": 4
}
